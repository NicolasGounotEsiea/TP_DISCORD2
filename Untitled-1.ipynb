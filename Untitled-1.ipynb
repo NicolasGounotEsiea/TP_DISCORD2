{
 "cells": [
  {
   "cell_type": "code",
   "execution_count": null,
   "metadata": {},
   "outputs": [],
   "source": []
  },
  {
   "cell_type": "markdown",
   "metadata": {},
   "source": [
    "1-\n",
    "Un bot est un programme qui joue le rôle d'un utilisateur . C'est un utilisateur logiciel souvent utilisé pour faire appliqué les règles d'une communauté que ce soit sur discord ou d'autres plateformes."
   ]
  },
  {
   "cell_type": "markdown",
   "metadata": {},
   "source": [
    "2-\n",
    "Un logging est une gestion des logs. Les logs sont des des fichiers d'évènements où sont répértorié les événements (tel que les messages sur une conversation ou la connexion des utilisateurs) relatifs à un système.\n"
   ]
  }
 ],
 "metadata": {
  "language_info": {
   "name": "python"
  },
  "orig_nbformat": 4
 },
 "nbformat": 4,
 "nbformat_minor": 2
}
